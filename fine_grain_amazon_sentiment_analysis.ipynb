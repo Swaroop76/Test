{
  "cells": [
    {
      "cell_type": "code",
      "execution_count": null,
      "id": "7af2b5d3",
      "metadata": {
        "id": "7af2b5d3"
      },
      "outputs": [],
      "source": [
        "import re\n",
        "import numpy as np\n",
        "import pandas as pd\n",
        "import seaborn as sns\n",
        "import matplotlib.pyplot as plt\n",
        "import warnings\n",
        "warnings.filterwarnings('ignore')\n",
        "%matplotlib inline\n",
        "pd.set_option('display.max_colwidth',150)"
      ]
    },
    {
      "cell_type": "code",
      "execution_count": null,
      "id": "a1aaaff6",
      "metadata": {
        "id": "a1aaaff6"
      },
      "outputs": [],
      "source": [
        "import os # os module provides access to system features\n",
        "os.chdir(\"D:/Nlp\")\n",
        "dataset=pd.read_csv(\"Amazon_Sentiment_Text.csv\",encoding=\"latin-1\")"
      ]
    },
    {
      "cell_type": "code",
      "execution_count": null,
      "id": "89cb510b",
      "metadata": {
        "id": "89cb510b"
      },
      "outputs": [],
      "source": [
        "dataset.head()"
      ]
    },
    {
      "cell_type": "code",
      "execution_count": null,
      "id": "c5db403a",
      "metadata": {
        "id": "c5db403a"
      },
      "outputs": [],
      "source": [
        "dataset.sample"
      ]
    },
    {
      "cell_type": "code",
      "execution_count": null,
      "id": "90ebc1f5",
      "metadata": {
        "id": "90ebc1f5"
      },
      "outputs": [],
      "source": [
        "# removing short words\n",
        "dataset['Text']=dataset['Text'].str.replace('[^a-zA-Z#]',' ')\n",
        "dataset.head(10)"
      ]
    },
    {
      "cell_type": "code",
      "execution_count": null,
      "id": "120de36e",
      "metadata": {
        "id": "120de36e"
      },
      "outputs": [],
      "source": [
        "def clean_text(text):\n",
        "    #remove unwanted white spaces\n",
        "    text=re.sub(r'\\s+',' ',text)\n",
        "    #remove any characters which are not alphabets\n",
        "    text=re.sub(r'[^a-zA-Z#]+',' ',text)\n",
        "    #remove any html tags\n",
        "    text=re.sub(r'<.*?>','',text)\n",
        "    #converting to lower\n",
        "    text=text.lower()\n",
        "    return text"
      ]
    },
    {
      "cell_type": "code",
      "execution_count": null,
      "id": "87536a05",
      "metadata": {
        "id": "87536a05"
      },
      "outputs": [],
      "source": [
        "dataset['Text'] = dataset['Text'].apply(lambda x: clean_text(x))"
      ]
    },
    {
      "cell_type": "code",
      "execution_count": null,
      "id": "c9b4555f",
      "metadata": {
        "id": "c9b4555f"
      },
      "outputs": [],
      "source": [
        "#Removing short words\n",
        "dataset['Text'] = dataset['Text'].apply(lambda x: ' '.join(word for word in x.split() if len(word)>3))\n",
        "dataset.head(10)"
      ]
    },
    {
      "cell_type": "code",
      "execution_count": null,
      "id": "94098477",
      "metadata": {
        "id": "94098477"
      },
      "outputs": [],
      "source": [
        "# tokenized reviews\n",
        "tk_rev = dataset['Text'].apply(lambda x: x.split())\n",
        "tk_rev.head(10)"
      ]
    },
    {
      "cell_type": "code",
      "execution_count": null,
      "id": "ab4ce38b",
      "metadata": {
        "id": "ab4ce38b"
      },
      "outputs": [],
      "source": [
        "# Stemming\n",
        "from nltk.stem import PorterStemmer\n",
        "stemmer = PorterStemmer()\n",
        "tk_rev = tk_rev.apply(lambda x:[stemmer.stem(i) for i in x])\n",
        "tk_rev.head()"
      ]
    },
    {
      "cell_type": "code",
      "execution_count": null,
      "id": "f0a985fe",
      "metadata": {
        "id": "f0a985fe"
      },
      "outputs": [],
      "source": [
        "# Visualization\n",
        "# !pip install wordcloud\n",
        "from wordcloud import WordCloud\n",
        "all_words =' '.join([i for i in dataset['Text']])\n",
        "wc = WordCloud(width=800,height=600,random_state=21,max_font_size=110).generate(all_words)\n",
        "plt.figure(figsize=(10,8))\n",
        "plt.imshow(wc,interpolation='bilinear')\n",
        "plt.axis('off')\n",
        "plt.show()"
      ]
    },
    {
      "cell_type": "code",
      "execution_count": null,
      "id": "895f43f2",
      "metadata": {
        "id": "895f43f2"
      },
      "outputs": [],
      "source": [
        "\n",
        "from nltk.sentiment.vader import SentimentIntensityAnalyzer\n",
        "from textblob import TextBlob\n",
        "import pandas as pd\n",
        "import numpy as np\n",
        "from sklearn.metrics import f1_score, accuracy_score\n",
        "from tqdm import tqdm"
      ]
    },
    {
      "cell_type": "code",
      "execution_count": null,
      "id": "b04d46ad",
      "metadata": {
        "id": "b04d46ad"
      },
      "outputs": [],
      "source": [
        "dataset=pd.read_csv(\"Amazon_Sentiment_Text.csv\",sep='\\t',)"
      ]
    },
    {
      "cell_type": "code",
      "execution_count": null,
      "id": "92562fcb",
      "metadata": {
        "id": "92562fcb"
      },
      "outputs": [],
      "source": [
        "dataset.head()"
      ]
    },
    {
      "cell_type": "code",
      "execution_count": null,
      "id": "9066913b",
      "metadata": {
        "id": "9066913b"
      },
      "outputs": [],
      "source": [
        "########"
      ]
    }
  ],
  "metadata": {
    "kernelspec": {
      "display_name": "Python 3 (ipykernel)",
      "language": "python",
      "name": "python3"
    },
    "language_info": {
      "codemirror_mode": {
        "name": "ipython",
        "version": 3
      },
      "file_extension": ".py",
      "mimetype": "text/x-python",
      "name": "python",
      "nbconvert_exporter": "python",
      "pygments_lexer": "ipython3",
      "version": "3.11.4"
    },
    "colab": {
      "provenance": []
    }
  },
  "nbformat": 4,
  "nbformat_minor": 5
}